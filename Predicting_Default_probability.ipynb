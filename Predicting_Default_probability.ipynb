{
  "nbformat": 4,
  "nbformat_minor": 0,
  "metadata": {
    "colab": {
      "name": "Predicting Default probability.ipynb",
      "provenance": [],
      "mount_file_id": "1YubWncNH2KkH_V1u4Oa_lBzjGU8JGSvU",
      "authorship_tag": "ABX9TyNNFlvzCZ7f7GmVvKu207EF",
      "include_colab_link": true
    },
    "kernelspec": {
      "name": "python3",
      "display_name": "Python 3"
    },
    "language_info": {
      "name": "python"
    }
  },
  "cells": [
    {
      "cell_type": "markdown",
      "metadata": {
        "id": "view-in-github",
        "colab_type": "text"
      },
      "source": [
        "<a href=\"https://colab.research.google.com/github/Hoale2908/Predicting_default/blob/main/Predicting_Default_probability.ipynb\" target=\"_parent\"><img src=\"https://colab.research.google.com/assets/colab-badge.svg\" alt=\"Open In Colab\"/></a>"
      ]
    },
    {
      "cell_type": "markdown",
      "source": [
        "**Goal:**   Construct a classification model to predict the probability of default for a company based on various financial ratios.\n",
        "\n",
        "**Data:**    \n",
        "*   Historical data on corporate financial ratios for the 1995-2004 period, and \n",
        "*   Historical default events for public companies over the 1995-2004 period.\n",
        "\n",
        "**Definition:**\n",
        "* WC2TA: Working capital/Total assets\n",
        "* RE2TA: Retained earning/Total assets\n",
        "* EBIT2TA: EBIT/Total Assets\n",
        "* ME2TL: Market Equity/Total Liabilities\n",
        "* S2TA: Sales/Total assets\n",
        "* Default: 1 for defaut events, 0 for non-default events"
      ],
      "metadata": {
        "id": "A6mXK2tI8gjc"
      }
    },
    {
      "cell_type": "code",
      "execution_count": null,
      "metadata": {
        "id": "lRG_llzC8CkI"
      },
      "outputs": [],
      "source": [
        "# Importing libraries\n",
        "\n",
        "import pandas as pd\n",
        "import numpy as np\n",
        "import os\n",
        "\n",
        "import matplotlib.pyplot as plt\n",
        "import seaborn as sns\n",
        "\n",
        "import warnings\n",
        "warnings.filterwarnings(\"ignore\")"
      ]
    },
    {
      "cell_type": "code",
      "source": [
        ""
      ],
      "metadata": {
        "id": "wBnJ1IzZVvZr"
      },
      "execution_count": null,
      "outputs": []
    },
    {
      "cell_type": "markdown",
      "source": [
        "# Step 1. Clean data"
      ],
      "metadata": {
        "id": "ff7luryRpKV_"
      }
    },
    {
      "cell_type": "code",
      "source": [
        "# Importing the data\n",
        "\n",
        "comp_data = pd.read_table(\"/content/drive/MyDrive/Colab Notebooks/Predicting Default/Input data/comp_data.txt\", sep=\"|\")"
      ],
      "metadata": {
        "id": "4Qmjz1Z-AH_c"
      },
      "execution_count": null,
      "outputs": []
    },
    {
      "cell_type": "code",
      "source": [
        "# Overview of input data\n",
        "\n",
        "comp_data.head()"
      ],
      "metadata": {
        "colab": {
          "base_uri": "https://localhost:8080/",
          "height": 206
        },
        "id": "AEHaXzLcDwc2",
        "outputId": "a9fe0598-782e-4823-df77-c900cf47b537"
      },
      "execution_count": null,
      "outputs": [
        {
          "output_type": "execute_result",
          "data": {
            "text/plain": [
              "   ID  Year  Default  WC2TA  RE2TA  EBIT2TA  ME2TL   S2TA\n",
              "0   1  1999        0  0.501  0.307    0.043  0.956  0.335\n",
              "1   1  2000        0  0.550  0.320    0.050  1.060  0.330\n",
              "2   1  2001        0  0.450  0.230    0.030  0.800  0.250\n",
              "3   1  2002        0  0.310  0.190    0.030  0.390  0.250\n",
              "4   1  2003        0  0.450  0.220    0.030  0.790  0.280"
            ],
            "text/html": [
              "\n",
              "  <div id=\"df-85832711-2c38-4c00-9503-c6c8326fd24c\">\n",
              "    <div class=\"colab-df-container\">\n",
              "      <div>\n",
              "<style scoped>\n",
              "    .dataframe tbody tr th:only-of-type {\n",
              "        vertical-align: middle;\n",
              "    }\n",
              "\n",
              "    .dataframe tbody tr th {\n",
              "        vertical-align: top;\n",
              "    }\n",
              "\n",
              "    .dataframe thead th {\n",
              "        text-align: right;\n",
              "    }\n",
              "</style>\n",
              "<table border=\"1\" class=\"dataframe\">\n",
              "  <thead>\n",
              "    <tr style=\"text-align: right;\">\n",
              "      <th></th>\n",
              "      <th>ID</th>\n",
              "      <th>Year</th>\n",
              "      <th>Default</th>\n",
              "      <th>WC2TA</th>\n",
              "      <th>RE2TA</th>\n",
              "      <th>EBIT2TA</th>\n",
              "      <th>ME2TL</th>\n",
              "      <th>S2TA</th>\n",
              "    </tr>\n",
              "  </thead>\n",
              "  <tbody>\n",
              "    <tr>\n",
              "      <th>0</th>\n",
              "      <td>1</td>\n",
              "      <td>1999</td>\n",
              "      <td>0</td>\n",
              "      <td>0.501</td>\n",
              "      <td>0.307</td>\n",
              "      <td>0.043</td>\n",
              "      <td>0.956</td>\n",
              "      <td>0.335</td>\n",
              "    </tr>\n",
              "    <tr>\n",
              "      <th>1</th>\n",
              "      <td>1</td>\n",
              "      <td>2000</td>\n",
              "      <td>0</td>\n",
              "      <td>0.550</td>\n",
              "      <td>0.320</td>\n",
              "      <td>0.050</td>\n",
              "      <td>1.060</td>\n",
              "      <td>0.330</td>\n",
              "    </tr>\n",
              "    <tr>\n",
              "      <th>2</th>\n",
              "      <td>1</td>\n",
              "      <td>2001</td>\n",
              "      <td>0</td>\n",
              "      <td>0.450</td>\n",
              "      <td>0.230</td>\n",
              "      <td>0.030</td>\n",
              "      <td>0.800</td>\n",
              "      <td>0.250</td>\n",
              "    </tr>\n",
              "    <tr>\n",
              "      <th>3</th>\n",
              "      <td>1</td>\n",
              "      <td>2002</td>\n",
              "      <td>0</td>\n",
              "      <td>0.310</td>\n",
              "      <td>0.190</td>\n",
              "      <td>0.030</td>\n",
              "      <td>0.390</td>\n",
              "      <td>0.250</td>\n",
              "    </tr>\n",
              "    <tr>\n",
              "      <th>4</th>\n",
              "      <td>1</td>\n",
              "      <td>2003</td>\n",
              "      <td>0</td>\n",
              "      <td>0.450</td>\n",
              "      <td>0.220</td>\n",
              "      <td>0.030</td>\n",
              "      <td>0.790</td>\n",
              "      <td>0.280</td>\n",
              "    </tr>\n",
              "  </tbody>\n",
              "</table>\n",
              "</div>\n",
              "      <button class=\"colab-df-convert\" onclick=\"convertToInteractive('df-85832711-2c38-4c00-9503-c6c8326fd24c')\"\n",
              "              title=\"Convert this dataframe to an interactive table.\"\n",
              "              style=\"display:none;\">\n",
              "        \n",
              "  <svg xmlns=\"http://www.w3.org/2000/svg\" height=\"24px\"viewBox=\"0 0 24 24\"\n",
              "       width=\"24px\">\n",
              "    <path d=\"M0 0h24v24H0V0z\" fill=\"none\"/>\n",
              "    <path d=\"M18.56 5.44l.94 2.06.94-2.06 2.06-.94-2.06-.94-.94-2.06-.94 2.06-2.06.94zm-11 1L8.5 8.5l.94-2.06 2.06-.94-2.06-.94L8.5 2.5l-.94 2.06-2.06.94zm10 10l.94 2.06.94-2.06 2.06-.94-2.06-.94-.94-2.06-.94 2.06-2.06.94z\"/><path d=\"M17.41 7.96l-1.37-1.37c-.4-.4-.92-.59-1.43-.59-.52 0-1.04.2-1.43.59L10.3 9.45l-7.72 7.72c-.78.78-.78 2.05 0 2.83L4 21.41c.39.39.9.59 1.41.59.51 0 1.02-.2 1.41-.59l7.78-7.78 2.81-2.81c.8-.78.8-2.07 0-2.86zM5.41 20L4 18.59l7.72-7.72 1.47 1.35L5.41 20z\"/>\n",
              "  </svg>\n",
              "      </button>\n",
              "      \n",
              "  <style>\n",
              "    .colab-df-container {\n",
              "      display:flex;\n",
              "      flex-wrap:wrap;\n",
              "      gap: 12px;\n",
              "    }\n",
              "\n",
              "    .colab-df-convert {\n",
              "      background-color: #E8F0FE;\n",
              "      border: none;\n",
              "      border-radius: 50%;\n",
              "      cursor: pointer;\n",
              "      display: none;\n",
              "      fill: #1967D2;\n",
              "      height: 32px;\n",
              "      padding: 0 0 0 0;\n",
              "      width: 32px;\n",
              "    }\n",
              "\n",
              "    .colab-df-convert:hover {\n",
              "      background-color: #E2EBFA;\n",
              "      box-shadow: 0px 1px 2px rgba(60, 64, 67, 0.3), 0px 1px 3px 1px rgba(60, 64, 67, 0.15);\n",
              "      fill: #174EA6;\n",
              "    }\n",
              "\n",
              "    [theme=dark] .colab-df-convert {\n",
              "      background-color: #3B4455;\n",
              "      fill: #D2E3FC;\n",
              "    }\n",
              "\n",
              "    [theme=dark] .colab-df-convert:hover {\n",
              "      background-color: #434B5C;\n",
              "      box-shadow: 0px 1px 3px 1px rgba(0, 0, 0, 0.15);\n",
              "      filter: drop-shadow(0px 1px 2px rgba(0, 0, 0, 0.3));\n",
              "      fill: #FFFFFF;\n",
              "    }\n",
              "  </style>\n",
              "\n",
              "      <script>\n",
              "        const buttonEl =\n",
              "          document.querySelector('#df-85832711-2c38-4c00-9503-c6c8326fd24c button.colab-df-convert');\n",
              "        buttonEl.style.display =\n",
              "          google.colab.kernel.accessAllowed ? 'block' : 'none';\n",
              "\n",
              "        async function convertToInteractive(key) {\n",
              "          const element = document.querySelector('#df-85832711-2c38-4c00-9503-c6c8326fd24c');\n",
              "          const dataTable =\n",
              "            await google.colab.kernel.invokeFunction('convertToInteractive',\n",
              "                                                     [key], {});\n",
              "          if (!dataTable) return;\n",
              "\n",
              "          const docLinkHtml = 'Like what you see? Visit the ' +\n",
              "            '<a target=\"_blank\" href=https://colab.research.google.com/notebooks/data_table.ipynb>data table notebook</a>'\n",
              "            + ' to learn more about interactive tables.';\n",
              "          element.innerHTML = '';\n",
              "          dataTable['output_type'] = 'display_data';\n",
              "          await google.colab.output.renderOutput(dataTable, element);\n",
              "          const docLink = document.createElement('div');\n",
              "          docLink.innerHTML = docLinkHtml;\n",
              "          element.appendChild(docLink);\n",
              "        }\n",
              "      </script>\n",
              "    </div>\n",
              "  </div>\n",
              "  "
            ]
          },
          "metadata": {},
          "execution_count": 5
        }
      ]
    },
    {
      "cell_type": "code",
      "source": [
        "comp_data.info()"
      ],
      "metadata": {
        "colab": {
          "base_uri": "https://localhost:8080/"
        },
        "id": "LzT7ad25D6qC",
        "outputId": "3b34e4bb-bfe1-4cbc-baa9-8f394cf13261"
      },
      "execution_count": null,
      "outputs": [
        {
          "output_type": "stream",
          "name": "stdout",
          "text": [
            "<class 'pandas.core.frame.DataFrame'>\n",
            "RangeIndex: 3900 entries, 0 to 3899\n",
            "Data columns (total 8 columns):\n",
            " #   Column   Non-Null Count  Dtype  \n",
            "---  ------   --------------  -----  \n",
            " 0   ID       3900 non-null   int64  \n",
            " 1   Year     3900 non-null   int64  \n",
            " 2   Default  3900 non-null   int64  \n",
            " 3   WC2TA    3900 non-null   float64\n",
            " 4   RE2TA    3900 non-null   float64\n",
            " 5   EBIT2TA  3900 non-null   float64\n",
            " 6   ME2TL    3900 non-null   float64\n",
            " 7   S2TA     3900 non-null   float64\n",
            "dtypes: float64(5), int64(3)\n",
            "memory usage: 243.9 KB\n"
          ]
        }
      ]
    },
    {
      "cell_type": "code",
      "source": [
        "comp_data.describe()"
      ],
      "metadata": {
        "colab": {
          "base_uri": "https://localhost:8080/",
          "height": 301
        },
        "id": "wuHH3HbIjeOS",
        "outputId": "c1b7faf2-d84a-4fbe-9317-6b36261a1f35"
      },
      "execution_count": null,
      "outputs": [
        {
          "output_type": "execute_result",
          "data": {
            "text/plain": [
              "                ID        Year      Default        WC2TA        RE2TA  \\\n",
              "count  3900.000000  3900.00000  3900.000000  3900.000000  3900.000000   \n",
              "mean    359.037179  1999.83641     0.018462     0.141708     0.210107   \n",
              "std     199.858753     2.75044     0.134630     0.170903     0.322157   \n",
              "min       1.000000  1995.00000     0.000000    -2.240000    -3.310000   \n",
              "25%     187.750000  1998.00000     0.000000     0.030000     0.090000   \n",
              "50%     367.000000  2000.00000     0.000000     0.115000     0.220000   \n",
              "75%     524.000000  2002.00000     0.000000     0.240000     0.370000   \n",
              "max     830.000000  2004.00000     1.000000     0.770000     1.640000   \n",
              "\n",
              "           EBIT2TA        ME2TL         S2TA  \n",
              "count  3900.000000  3900.000000  3900.000000  \n",
              "mean      0.051708     1.947132     0.304094  \n",
              "std       0.029288     3.021428     0.207658  \n",
              "min      -0.590000     0.020000     0.040000  \n",
              "25%       0.040000     0.620000     0.170000  \n",
              "50%       0.050000     1.130000     0.260000  \n",
              "75%       0.060000     2.212500     0.370000  \n",
              "max       0.200000    60.610000     5.010000  "
            ],
            "text/html": [
              "\n",
              "  <div id=\"df-4627f779-c01f-4170-85c7-2fc0c812c71d\">\n",
              "    <div class=\"colab-df-container\">\n",
              "      <div>\n",
              "<style scoped>\n",
              "    .dataframe tbody tr th:only-of-type {\n",
              "        vertical-align: middle;\n",
              "    }\n",
              "\n",
              "    .dataframe tbody tr th {\n",
              "        vertical-align: top;\n",
              "    }\n",
              "\n",
              "    .dataframe thead th {\n",
              "        text-align: right;\n",
              "    }\n",
              "</style>\n",
              "<table border=\"1\" class=\"dataframe\">\n",
              "  <thead>\n",
              "    <tr style=\"text-align: right;\">\n",
              "      <th></th>\n",
              "      <th>ID</th>\n",
              "      <th>Year</th>\n",
              "      <th>Default</th>\n",
              "      <th>WC2TA</th>\n",
              "      <th>RE2TA</th>\n",
              "      <th>EBIT2TA</th>\n",
              "      <th>ME2TL</th>\n",
              "      <th>S2TA</th>\n",
              "    </tr>\n",
              "  </thead>\n",
              "  <tbody>\n",
              "    <tr>\n",
              "      <th>count</th>\n",
              "      <td>3900.000000</td>\n",
              "      <td>3900.00000</td>\n",
              "      <td>3900.000000</td>\n",
              "      <td>3900.000000</td>\n",
              "      <td>3900.000000</td>\n",
              "      <td>3900.000000</td>\n",
              "      <td>3900.000000</td>\n",
              "      <td>3900.000000</td>\n",
              "    </tr>\n",
              "    <tr>\n",
              "      <th>mean</th>\n",
              "      <td>359.037179</td>\n",
              "      <td>1999.83641</td>\n",
              "      <td>0.018462</td>\n",
              "      <td>0.141708</td>\n",
              "      <td>0.210107</td>\n",
              "      <td>0.051708</td>\n",
              "      <td>1.947132</td>\n",
              "      <td>0.304094</td>\n",
              "    </tr>\n",
              "    <tr>\n",
              "      <th>std</th>\n",
              "      <td>199.858753</td>\n",
              "      <td>2.75044</td>\n",
              "      <td>0.134630</td>\n",
              "      <td>0.170903</td>\n",
              "      <td>0.322157</td>\n",
              "      <td>0.029288</td>\n",
              "      <td>3.021428</td>\n",
              "      <td>0.207658</td>\n",
              "    </tr>\n",
              "    <tr>\n",
              "      <th>min</th>\n",
              "      <td>1.000000</td>\n",
              "      <td>1995.00000</td>\n",
              "      <td>0.000000</td>\n",
              "      <td>-2.240000</td>\n",
              "      <td>-3.310000</td>\n",
              "      <td>-0.590000</td>\n",
              "      <td>0.020000</td>\n",
              "      <td>0.040000</td>\n",
              "    </tr>\n",
              "    <tr>\n",
              "      <th>25%</th>\n",
              "      <td>187.750000</td>\n",
              "      <td>1998.00000</td>\n",
              "      <td>0.000000</td>\n",
              "      <td>0.030000</td>\n",
              "      <td>0.090000</td>\n",
              "      <td>0.040000</td>\n",
              "      <td>0.620000</td>\n",
              "      <td>0.170000</td>\n",
              "    </tr>\n",
              "    <tr>\n",
              "      <th>50%</th>\n",
              "      <td>367.000000</td>\n",
              "      <td>2000.00000</td>\n",
              "      <td>0.000000</td>\n",
              "      <td>0.115000</td>\n",
              "      <td>0.220000</td>\n",
              "      <td>0.050000</td>\n",
              "      <td>1.130000</td>\n",
              "      <td>0.260000</td>\n",
              "    </tr>\n",
              "    <tr>\n",
              "      <th>75%</th>\n",
              "      <td>524.000000</td>\n",
              "      <td>2002.00000</td>\n",
              "      <td>0.000000</td>\n",
              "      <td>0.240000</td>\n",
              "      <td>0.370000</td>\n",
              "      <td>0.060000</td>\n",
              "      <td>2.212500</td>\n",
              "      <td>0.370000</td>\n",
              "    </tr>\n",
              "    <tr>\n",
              "      <th>max</th>\n",
              "      <td>830.000000</td>\n",
              "      <td>2004.00000</td>\n",
              "      <td>1.000000</td>\n",
              "      <td>0.770000</td>\n",
              "      <td>1.640000</td>\n",
              "      <td>0.200000</td>\n",
              "      <td>60.610000</td>\n",
              "      <td>5.010000</td>\n",
              "    </tr>\n",
              "  </tbody>\n",
              "</table>\n",
              "</div>\n",
              "      <button class=\"colab-df-convert\" onclick=\"convertToInteractive('df-4627f779-c01f-4170-85c7-2fc0c812c71d')\"\n",
              "              title=\"Convert this dataframe to an interactive table.\"\n",
              "              style=\"display:none;\">\n",
              "        \n",
              "  <svg xmlns=\"http://www.w3.org/2000/svg\" height=\"24px\"viewBox=\"0 0 24 24\"\n",
              "       width=\"24px\">\n",
              "    <path d=\"M0 0h24v24H0V0z\" fill=\"none\"/>\n",
              "    <path d=\"M18.56 5.44l.94 2.06.94-2.06 2.06-.94-2.06-.94-.94-2.06-.94 2.06-2.06.94zm-11 1L8.5 8.5l.94-2.06 2.06-.94-2.06-.94L8.5 2.5l-.94 2.06-2.06.94zm10 10l.94 2.06.94-2.06 2.06-.94-2.06-.94-.94-2.06-.94 2.06-2.06.94z\"/><path d=\"M17.41 7.96l-1.37-1.37c-.4-.4-.92-.59-1.43-.59-.52 0-1.04.2-1.43.59L10.3 9.45l-7.72 7.72c-.78.78-.78 2.05 0 2.83L4 21.41c.39.39.9.59 1.41.59.51 0 1.02-.2 1.41-.59l7.78-7.78 2.81-2.81c.8-.78.8-2.07 0-2.86zM5.41 20L4 18.59l7.72-7.72 1.47 1.35L5.41 20z\"/>\n",
              "  </svg>\n",
              "      </button>\n",
              "      \n",
              "  <style>\n",
              "    .colab-df-container {\n",
              "      display:flex;\n",
              "      flex-wrap:wrap;\n",
              "      gap: 12px;\n",
              "    }\n",
              "\n",
              "    .colab-df-convert {\n",
              "      background-color: #E8F0FE;\n",
              "      border: none;\n",
              "      border-radius: 50%;\n",
              "      cursor: pointer;\n",
              "      display: none;\n",
              "      fill: #1967D2;\n",
              "      height: 32px;\n",
              "      padding: 0 0 0 0;\n",
              "      width: 32px;\n",
              "    }\n",
              "\n",
              "    .colab-df-convert:hover {\n",
              "      background-color: #E2EBFA;\n",
              "      box-shadow: 0px 1px 2px rgba(60, 64, 67, 0.3), 0px 1px 3px 1px rgba(60, 64, 67, 0.15);\n",
              "      fill: #174EA6;\n",
              "    }\n",
              "\n",
              "    [theme=dark] .colab-df-convert {\n",
              "      background-color: #3B4455;\n",
              "      fill: #D2E3FC;\n",
              "    }\n",
              "\n",
              "    [theme=dark] .colab-df-convert:hover {\n",
              "      background-color: #434B5C;\n",
              "      box-shadow: 0px 1px 3px 1px rgba(0, 0, 0, 0.15);\n",
              "      filter: drop-shadow(0px 1px 2px rgba(0, 0, 0, 0.3));\n",
              "      fill: #FFFFFF;\n",
              "    }\n",
              "  </style>\n",
              "\n",
              "      <script>\n",
              "        const buttonEl =\n",
              "          document.querySelector('#df-4627f779-c01f-4170-85c7-2fc0c812c71d button.colab-df-convert');\n",
              "        buttonEl.style.display =\n",
              "          google.colab.kernel.accessAllowed ? 'block' : 'none';\n",
              "\n",
              "        async function convertToInteractive(key) {\n",
              "          const element = document.querySelector('#df-4627f779-c01f-4170-85c7-2fc0c812c71d');\n",
              "          const dataTable =\n",
              "            await google.colab.kernel.invokeFunction('convertToInteractive',\n",
              "                                                     [key], {});\n",
              "          if (!dataTable) return;\n",
              "\n",
              "          const docLinkHtml = 'Like what you see? Visit the ' +\n",
              "            '<a target=\"_blank\" href=https://colab.research.google.com/notebooks/data_table.ipynb>data table notebook</a>'\n",
              "            + ' to learn more about interactive tables.';\n",
              "          element.innerHTML = '';\n",
              "          dataTable['output_type'] = 'display_data';\n",
              "          await google.colab.output.renderOutput(dataTable, element);\n",
              "          const docLink = document.createElement('div');\n",
              "          docLink.innerHTML = docLinkHtml;\n",
              "          element.appendChild(docLink);\n",
              "        }\n",
              "      </script>\n",
              "    </div>\n",
              "  </div>\n",
              "  "
            ]
          },
          "metadata": {},
          "execution_count": 7
        }
      ]
    },
    {
      "cell_type": "markdown",
      "source": [
        "General insights:\n",
        "* The comp_data dataset contains 5 features and 1 target data field. \n",
        "* There are 3900 rows of data for 830 companies each of which is represented by one ID.\n",
        "* There is no missing data.\n",
        "* We will need to change \"Year\" and \"Default\" from int64 into *datetime* and *categorical*, respectively.\n",
        "\n",
        "So next step we will change the data type of these features.\n"
      ],
      "metadata": {
        "id": "YVsX1JkmE8w5"
      }
    },
    {
      "cell_type": "code",
      "source": [
        "# Convert the features' data types\n",
        "\n",
        "comp_data['Default'] = comp_data['Default'].astype('category')\n",
        "comp_data.Year = pd.to_datetime(comp_data.Year, format=\"%Y\")\n",
        "comp_data.info()"
      ],
      "metadata": {
        "colab": {
          "base_uri": "https://localhost:8080/"
        },
        "id": "kULZxDAbIBI4",
        "outputId": "8b1e649c-44cf-408c-f334-2bc9be23ba98"
      },
      "execution_count": null,
      "outputs": [
        {
          "output_type": "stream",
          "name": "stdout",
          "text": [
            "<class 'pandas.core.frame.DataFrame'>\n",
            "RangeIndex: 3900 entries, 0 to 3899\n",
            "Data columns (total 8 columns):\n",
            " #   Column   Non-Null Count  Dtype         \n",
            "---  ------   --------------  -----         \n",
            " 0   ID       3900 non-null   int64         \n",
            " 1   Year     3900 non-null   datetime64[ns]\n",
            " 2   Default  3900 non-null   category      \n",
            " 3   WC2TA    3900 non-null   float64       \n",
            " 4   RE2TA    3900 non-null   float64       \n",
            " 5   EBIT2TA  3900 non-null   float64       \n",
            " 6   ME2TL    3900 non-null   float64       \n",
            " 7   S2TA     3900 non-null   float64       \n",
            "dtypes: category(1), datetime64[ns](1), float64(5), int64(1)\n",
            "memory usage: 217.3 KB\n"
          ]
        }
      ]
    },
    {
      "cell_type": "markdown",
      "source": [
        "We have made the modification to the data type. This is how the comp_data dataset looks like after we converted the \"Year\" and \"Default\" columns to the appropriate data types."
      ],
      "metadata": {
        "id": "HP7WryVSh_9a"
      }
    },
    {
      "cell_type": "code",
      "source": [
        "comp_data.head()"
      ],
      "metadata": {
        "colab": {
          "base_uri": "https://localhost:8080/",
          "height": 206
        },
        "id": "H-g2kyp3OTyH",
        "outputId": "d81e6fcb-6d38-4698-9406-bed1de9268ff"
      },
      "execution_count": null,
      "outputs": [
        {
          "output_type": "execute_result",
          "data": {
            "text/plain": [
              "   ID       Year Default  WC2TA  RE2TA  EBIT2TA  ME2TL   S2TA\n",
              "0   1 1999-01-01       0  0.501  0.307    0.043  0.956  0.335\n",
              "1   1 2000-01-01       0  0.550  0.320    0.050  1.060  0.330\n",
              "2   1 2001-01-01       0  0.450  0.230    0.030  0.800  0.250\n",
              "3   1 2002-01-01       0  0.310  0.190    0.030  0.390  0.250\n",
              "4   1 2003-01-01       0  0.450  0.220    0.030  0.790  0.280"
            ],
            "text/html": [
              "\n",
              "  <div id=\"df-96766e6d-08ba-4be7-8a8d-15d1f4df2247\">\n",
              "    <div class=\"colab-df-container\">\n",
              "      <div>\n",
              "<style scoped>\n",
              "    .dataframe tbody tr th:only-of-type {\n",
              "        vertical-align: middle;\n",
              "    }\n",
              "\n",
              "    .dataframe tbody tr th {\n",
              "        vertical-align: top;\n",
              "    }\n",
              "\n",
              "    .dataframe thead th {\n",
              "        text-align: right;\n",
              "    }\n",
              "</style>\n",
              "<table border=\"1\" class=\"dataframe\">\n",
              "  <thead>\n",
              "    <tr style=\"text-align: right;\">\n",
              "      <th></th>\n",
              "      <th>ID</th>\n",
              "      <th>Year</th>\n",
              "      <th>Default</th>\n",
              "      <th>WC2TA</th>\n",
              "      <th>RE2TA</th>\n",
              "      <th>EBIT2TA</th>\n",
              "      <th>ME2TL</th>\n",
              "      <th>S2TA</th>\n",
              "    </tr>\n",
              "  </thead>\n",
              "  <tbody>\n",
              "    <tr>\n",
              "      <th>0</th>\n",
              "      <td>1</td>\n",
              "      <td>1999-01-01</td>\n",
              "      <td>0</td>\n",
              "      <td>0.501</td>\n",
              "      <td>0.307</td>\n",
              "      <td>0.043</td>\n",
              "      <td>0.956</td>\n",
              "      <td>0.335</td>\n",
              "    </tr>\n",
              "    <tr>\n",
              "      <th>1</th>\n",
              "      <td>1</td>\n",
              "      <td>2000-01-01</td>\n",
              "      <td>0</td>\n",
              "      <td>0.550</td>\n",
              "      <td>0.320</td>\n",
              "      <td>0.050</td>\n",
              "      <td>1.060</td>\n",
              "      <td>0.330</td>\n",
              "    </tr>\n",
              "    <tr>\n",
              "      <th>2</th>\n",
              "      <td>1</td>\n",
              "      <td>2001-01-01</td>\n",
              "      <td>0</td>\n",
              "      <td>0.450</td>\n",
              "      <td>0.230</td>\n",
              "      <td>0.030</td>\n",
              "      <td>0.800</td>\n",
              "      <td>0.250</td>\n",
              "    </tr>\n",
              "    <tr>\n",
              "      <th>3</th>\n",
              "      <td>1</td>\n",
              "      <td>2002-01-01</td>\n",
              "      <td>0</td>\n",
              "      <td>0.310</td>\n",
              "      <td>0.190</td>\n",
              "      <td>0.030</td>\n",
              "      <td>0.390</td>\n",
              "      <td>0.250</td>\n",
              "    </tr>\n",
              "    <tr>\n",
              "      <th>4</th>\n",
              "      <td>1</td>\n",
              "      <td>2003-01-01</td>\n",
              "      <td>0</td>\n",
              "      <td>0.450</td>\n",
              "      <td>0.220</td>\n",
              "      <td>0.030</td>\n",
              "      <td>0.790</td>\n",
              "      <td>0.280</td>\n",
              "    </tr>\n",
              "  </tbody>\n",
              "</table>\n",
              "</div>\n",
              "      <button class=\"colab-df-convert\" onclick=\"convertToInteractive('df-96766e6d-08ba-4be7-8a8d-15d1f4df2247')\"\n",
              "              title=\"Convert this dataframe to an interactive table.\"\n",
              "              style=\"display:none;\">\n",
              "        \n",
              "  <svg xmlns=\"http://www.w3.org/2000/svg\" height=\"24px\"viewBox=\"0 0 24 24\"\n",
              "       width=\"24px\">\n",
              "    <path d=\"M0 0h24v24H0V0z\" fill=\"none\"/>\n",
              "    <path d=\"M18.56 5.44l.94 2.06.94-2.06 2.06-.94-2.06-.94-.94-2.06-.94 2.06-2.06.94zm-11 1L8.5 8.5l.94-2.06 2.06-.94-2.06-.94L8.5 2.5l-.94 2.06-2.06.94zm10 10l.94 2.06.94-2.06 2.06-.94-2.06-.94-.94-2.06-.94 2.06-2.06.94z\"/><path d=\"M17.41 7.96l-1.37-1.37c-.4-.4-.92-.59-1.43-.59-.52 0-1.04.2-1.43.59L10.3 9.45l-7.72 7.72c-.78.78-.78 2.05 0 2.83L4 21.41c.39.39.9.59 1.41.59.51 0 1.02-.2 1.41-.59l7.78-7.78 2.81-2.81c.8-.78.8-2.07 0-2.86zM5.41 20L4 18.59l7.72-7.72 1.47 1.35L5.41 20z\"/>\n",
              "  </svg>\n",
              "      </button>\n",
              "      \n",
              "  <style>\n",
              "    .colab-df-container {\n",
              "      display:flex;\n",
              "      flex-wrap:wrap;\n",
              "      gap: 12px;\n",
              "    }\n",
              "\n",
              "    .colab-df-convert {\n",
              "      background-color: #E8F0FE;\n",
              "      border: none;\n",
              "      border-radius: 50%;\n",
              "      cursor: pointer;\n",
              "      display: none;\n",
              "      fill: #1967D2;\n",
              "      height: 32px;\n",
              "      padding: 0 0 0 0;\n",
              "      width: 32px;\n",
              "    }\n",
              "\n",
              "    .colab-df-convert:hover {\n",
              "      background-color: #E2EBFA;\n",
              "      box-shadow: 0px 1px 2px rgba(60, 64, 67, 0.3), 0px 1px 3px 1px rgba(60, 64, 67, 0.15);\n",
              "      fill: #174EA6;\n",
              "    }\n",
              "\n",
              "    [theme=dark] .colab-df-convert {\n",
              "      background-color: #3B4455;\n",
              "      fill: #D2E3FC;\n",
              "    }\n",
              "\n",
              "    [theme=dark] .colab-df-convert:hover {\n",
              "      background-color: #434B5C;\n",
              "      box-shadow: 0px 1px 3px 1px rgba(0, 0, 0, 0.15);\n",
              "      filter: drop-shadow(0px 1px 2px rgba(0, 0, 0, 0.3));\n",
              "      fill: #FFFFFF;\n",
              "    }\n",
              "  </style>\n",
              "\n",
              "      <script>\n",
              "        const buttonEl =\n",
              "          document.querySelector('#df-96766e6d-08ba-4be7-8a8d-15d1f4df2247 button.colab-df-convert');\n",
              "        buttonEl.style.display =\n",
              "          google.colab.kernel.accessAllowed ? 'block' : 'none';\n",
              "\n",
              "        async function convertToInteractive(key) {\n",
              "          const element = document.querySelector('#df-96766e6d-08ba-4be7-8a8d-15d1f4df2247');\n",
              "          const dataTable =\n",
              "            await google.colab.kernel.invokeFunction('convertToInteractive',\n",
              "                                                     [key], {});\n",
              "          if (!dataTable) return;\n",
              "\n",
              "          const docLinkHtml = 'Like what you see? Visit the ' +\n",
              "            '<a target=\"_blank\" href=https://colab.research.google.com/notebooks/data_table.ipynb>data table notebook</a>'\n",
              "            + ' to learn more about interactive tables.';\n",
              "          element.innerHTML = '';\n",
              "          dataTable['output_type'] = 'display_data';\n",
              "          await google.colab.output.renderOutput(dataTable, element);\n",
              "          const docLink = document.createElement('div');\n",
              "          docLink.innerHTML = docLinkHtml;\n",
              "          element.appendChild(docLink);\n",
              "        }\n",
              "      </script>\n",
              "    </div>\n",
              "  </div>\n",
              "  "
            ]
          },
          "metadata": {},
          "execution_count": 9
        }
      ]
    },
    {
      "cell_type": "markdown",
      "source": [
        "# Step 2. Initial feature analysis (EDA)"
      ],
      "metadata": {
        "id": "unQWyoffpTlM"
      }
    },
    {
      "cell_type": "markdown",
      "source": [
        "Using boxplots to see the difference in distribution between default observations and non-default observations."
      ],
      "metadata": {
        "id": "Paxam-yUX-nZ"
      }
    },
    {
      "cell_type": "markdown",
      "source": [
        "### WC2TA"
      ],
      "metadata": {
        "id": "hucw363kX36i"
      }
    },
    {
      "cell_type": "code",
      "source": [
        "comp_data.boxplot('WC2TA', by='Default', grid=True, vert=False, meanline=True, showmeans=True, figsize=(15,5))"
      ],
      "metadata": {
        "colab": {
          "base_uri": "https://localhost:8080/",
          "height": 368
        },
        "id": "TLwb-O16qGih",
        "outputId": "61f47de9-26de-4fcd-d629-9634dd83b379"
      },
      "execution_count": null,
      "outputs": [
        {
          "output_type": "execute_result",
          "data": {
            "text/plain": [
              "<matplotlib.axes._subplots.AxesSubplot at 0x7ff776749090>"
            ]
          },
          "metadata": {},
          "execution_count": 24
        },
        {
          "output_type": "display_data",
          "data": {
            "text/plain": [
              "<Figure size 1080x360 with 1 Axes>"
            ],
            "image/png": "[encoded data removed]"
          },
          "metadata": {
            "needs_background": "light"
          }
        }
      ]
    },
    {
      "cell_type": "markdown",
      "source": [
        "The variance in WC2TA between default and non-default observations is not significant. However, non-default companies tends to have WC2TA closer to 0. Interestingly, most outliers with WC2TA of less than -0.25 or higher than 0.5 are non-defaut companies."
      ],
      "metadata": {
        "id": "WvlMMfymzKro"
      }
    },
    {
      "cell_type": "markdown",
      "source": [
        "### RE2TA"
      ],
      "metadata": {
        "id": "RX7QjeryYGdS"
      }
    },
    {
      "cell_type": "code",
      "source": [
        "comp_data.boxplot('RE2TA', by='Default', grid=True, vert=False, meanline=True, showmeans=True, figsize=(15,5))"
      ],
      "metadata": {
        "colab": {
          "base_uri": "https://localhost:8080/",
          "height": 368
        },
        "id": "v-Xs7XaRsvPR",
        "outputId": "14e2cbed-ed93-4a21-b83e-aede27936b92"
      },
      "execution_count": null,
      "outputs": [
        {
          "output_type": "execute_result",
          "data": {
            "text/plain": [
              "<matplotlib.axes._subplots.AxesSubplot at 0x7ff776750810>"
            ]
          },
          "metadata": {},
          "execution_count": 25
        },
        {
          "output_type": "display_data",
          "data": {
            "text/plain": [
              "<Figure size 1080x360 with 1 Axes>"
            ],
            "image/png": "[encoded data removed]"
          },
          "metadata": {
            "needs_background": "light"
          }
        }
      ]
    },
    {
      "cell_type": "markdown",
      "source": [
        "The difference is quite clear with RE2TA. Default companies tend to have a lower mean of RE2TA, and nearly 75% of them even have negative Retained Earning. Most of non-default companies have a positive RE2TA. However, non-default companies also have a very wide range of RE2TA ratio, especially there are many outliers with RE2TA lower than most default companies. "
      ],
      "metadata": {
        "id": "9v5KO-u6zjPh"
      }
    },
    {
      "cell_type": "markdown",
      "source": [
        "### EBIT2TA"
      ],
      "metadata": {
        "id": "g3_SsLAOX0JG"
      }
    },
    {
      "cell_type": "code",
      "source": [
        "comp_data.boxplot('EBIT2TA', by='Default', grid=True, vert=False, meanline=True, showmeans=True, figsize=(15,5))"
      ],
      "metadata": {
        "id": "pyyWOpKWqd0F",
        "colab": {
          "base_uri": "https://localhost:8080/",
          "height": 368
        },
        "outputId": "078ad512-95da-4f6f-f33b-e62e6b34a6a0"
      },
      "execution_count": null,
      "outputs": [
        {
          "output_type": "execute_result",
          "data": {
            "text/plain": [
              "<matplotlib.axes._subplots.AxesSubplot at 0x7ff7765e6490>"
            ]
          },
          "metadata": {},
          "execution_count": 26
        },
        {
          "output_type": "display_data",
          "data": {
            "text/plain": [
              "<Figure size 1080x360 with 1 Axes>"
            ],
            "image/png": "[encoded data removed]"
          },
          "metadata": {
            "needs_background": "light"
          }
        }
      ]
    },
    {
      "cell_type": "markdown",
      "source": [
        "The difference in EBIT2TA is not significant. We can try to have a closer look at the range -0.1 to 0.1 where we have fewer outliers."
      ],
      "metadata": {
        "id": "Un7cPU8h0Z5k"
      }
    },
    {
      "cell_type": "code",
      "source": [
        "df_ebitta = comp_data[comp_data['EBIT2TA'] < 0.1]\n",
        "df_ebitta = comp_data[comp_data['EBIT2TA'] > -0.1]\n",
        "df_ebitta.boxplot('EBIT2TA', by='Default', grid=True, vert=False, meanline=True, showmeans=True, figsize=(15,5))"
      ],
      "metadata": {
        "colab": {
          "base_uri": "https://localhost:8080/",
          "height": 368
        },
        "id": "-HogXeiMUaR4",
        "outputId": "4f26701a-e545-4b36-cdcf-3d2ac114b487"
      },
      "execution_count": null,
      "outputs": [
        {
          "output_type": "execute_result",
          "data": {
            "text/plain": [
              "<matplotlib.axes._subplots.AxesSubplot at 0x7ff7763c2650>"
            ]
          },
          "metadata": {},
          "execution_count": 35
        },
        {
          "output_type": "display_data",
          "data": {
            "text/plain": [
              "<Figure size 1080x360 with 1 Axes>"
            ],
            "image/png": "[encoded data removed]"
          },
          "metadata": {
            "needs_background": "light"
          }
        }
      ]
    },
    {
      "cell_type": "markdown",
      "source": [
        "Now we can see that non-default companies have a slightly higher EBIT2TA on average, with 50% of those are around 0.04 - 0.06. Meanwhile, 50% of default companies have EBIT2TA in the range of 0.02 - 0.05. The difference is however insignificant.\n",
        " "
      ],
      "metadata": {
        "id": "yjq_-B6bWEtt"
      }
    },
    {
      "cell_type": "markdown",
      "source": [
        "### ME2TL"
      ],
      "metadata": {
        "id": "YkL4N4_rXwup"
      }
    },
    {
      "cell_type": "code",
      "source": [
        "comp_data.boxplot('ME2TL', by='Default', grid=True, vert=False, figsize=(15,5), showfliers=True, showmeans=True, meanline=True)"
      ],
      "metadata": {
        "colab": {
          "base_uri": "https://localhost:8080/",
          "height": 368
        },
        "id": "LQfFYcm20jsL",
        "outputId": "6f206621-da3f-4948-acf3-1869a5028e07"
      },
      "execution_count": null,
      "outputs": [
        {
          "output_type": "execute_result",
          "data": {
            "text/plain": [
              "<matplotlib.axes._subplots.AxesSubplot at 0x7ff7765874d0>"
            ]
          },
          "metadata": {},
          "execution_count": 27
        },
        {
          "output_type": "display_data",
          "data": {
            "text/plain": [
              "<Figure size 1080x360 with 1 Axes>"
            ],
            "image/png": "[encoded data removed]"
          },
          "metadata": {
            "needs_background": "light"
          }
        }
      ]
    },
    {
      "cell_type": "markdown",
      "source": [
        "Non-default companies usually have higher ME2TL. And if we remove observations where ME2TL > 4, we will have the following boxplot."
      ],
      "metadata": {
        "id": "eXYf51rdWdNU"
      }
    },
    {
      "cell_type": "code",
      "source": [
        "df1 = comp_data[comp_data['ME2TL']<4]\n",
        "df1.boxplot('ME2TL', by='Default', grid=True, vert=False, figsize=(15,5), showfliers=True, showmeans=True, meanline=True)"
      ],
      "metadata": {
        "colab": {
          "base_uri": "https://localhost:8080/",
          "height": 368
        },
        "id": "EHeTOVyrPr8H",
        "outputId": "e65bea5a-79f2-4254-bdbf-e86ea8cf4d4d"
      },
      "execution_count": null,
      "outputs": [
        {
          "output_type": "execute_result",
          "data": {
            "text/plain": [
              "<matplotlib.axes._subplots.AxesSubplot at 0x7ff7785ff6d0>"
            ]
          },
          "metadata": {},
          "execution_count": 36
        },
        {
          "output_type": "display_data",
          "data": {
            "text/plain": [
              "<Figure size 1080x360 with 1 Axes>"
            ],
            "image/png": "[encoded data removed]"
          },
          "metadata": {
            "needs_background": "light"
          }
        }
      ]
    },
    {
      "cell_type": "markdown",
      "source": [
        "Now it's easier to see that default companies have mush lower ME2TL. Most of them have a ME2TL of lower than 0.4, whereas more than 75% of non-default companies have a ME2TL of higher than 0.6. "
      ],
      "metadata": {
        "id": "AD0II7wXYwxV"
      }
    },
    {
      "cell_type": "markdown",
      "source": [
        "### S2TA"
      ],
      "metadata": {
        "id": "P2F1ePLFYuhA"
      }
    },
    {
      "cell_type": "code",
      "source": [
        "comp_data.boxplot('S2TA', by='Default', grid=True, vert=False, figsize=(15,5), showfliers=True, showmeans=True, meanline=True)"
      ],
      "metadata": {
        "colab": {
          "base_uri": "https://localhost:8080/",
          "height": 368
        },
        "id": "_uxPomUs1FHX",
        "outputId": "be870d68-1d88-4cb7-e243-53aa236ab9d3"
      },
      "execution_count": null,
      "outputs": [
        {
          "output_type": "execute_result",
          "data": {
            "text/plain": [
              "<matplotlib.axes._subplots.AxesSubplot at 0x7ff776439390>"
            ]
          },
          "metadata": {},
          "execution_count": 29
        },
        {
          "output_type": "display_data",
          "data": {
            "text/plain": [
              "<Figure size 1080x360 with 1 Axes>"
            ],
            "image/png": "[encoded data removed]"
          },
          "metadata": {
            "needs_background": "light"
          }
        }
      ]
    },
    {
      "cell_type": "markdown",
      "source": [
        "Let's remove some outliers with S2TA larger than 0.8 to see if we can get a better insight."
      ],
      "metadata": {
        "id": "-PNEFTNicIAg"
      }
    },
    {
      "cell_type": "code",
      "source": [
        "df_s2ta = comp_data[comp_data['S2TA'] < 0.8]\n",
        "df_s2ta.boxplot('S2TA', by='Default', grid=True, vert=False, figsize=(15,5), showfliers=True, showmeans=True, meanline=True)"
      ],
      "metadata": {
        "colab": {
          "base_uri": "https://localhost:8080/",
          "height": 368
        },
        "id": "9jCD9LsUcS0k",
        "outputId": "8c0c18c7-a168-4e76-ecaa-ca4e8b246245"
      },
      "execution_count": null,
      "outputs": [
        {
          "output_type": "execute_result",
          "data": {
            "text/plain": [
              "<matplotlib.axes._subplots.AxesSubplot at 0x7ff7761f6590>"
            ]
          },
          "metadata": {},
          "execution_count": 37
        },
        {
          "output_type": "display_data",
          "data": {
            "text/plain": [
              "<Figure size 1080x360 with 1 Axes>"
            ],
            "image/png": "[encoded data removed]"
          },
          "metadata": {
            "needs_background": "light"
          }
        }
      ]
    },
    {
      "cell_type": "markdown",
      "source": [
        "Oftentimes we think that companies with higher sales are doing better, and that's true. But since we are looking at the ratio of Sales over Total assets only rather than over debts or liabilities, it is not sufficient to comment on the company's capacity to pay off its debt."
      ],
      "metadata": {
        "id": "QjzBX3uOXqMW"
      }
    },
    {
      "cell_type": "markdown",
      "source": [
        "### Correlations among features"
      ],
      "metadata": {
        "id": "dh-iybQugxKc"
      }
    },
    {
      "cell_type": "code",
      "source": [
        "corr = comp_data.corr()\n",
        "f, ax = plt.subplots(figsize=(12, 10))\n",
        "mask = np.triu(np.ones_like(corr, dtype=bool))\n",
        "cmap = sns.diverging_palette(230, 20, as_cmap=True)\n",
        "sns.heatmap(corr, annot=True, mask = mask, cmap=cmap)"
      ],
      "metadata": {
        "colab": {
          "base_uri": "https://localhost:8080/",
          "height": 610
        },
        "id": "9VQAN9zIg0l_",
        "outputId": "3a954062-6744-4e57-af5e-118d75c6a641"
      },
      "execution_count": null,
      "outputs": [
        {
          "output_type": "execute_result",
          "data": {
            "text/plain": [
              "<matplotlib.axes._subplots.AxesSubplot at 0x7ff767768050>"
            ]
          },
          "metadata": {},
          "execution_count": 39
        },
        {
          "output_type": "display_data",
          "data": {
            "text/plain": [
              "<Figure size 864x720 with 2 Axes>"
            ],
            "image/png": "[encoded data removed]"
          },
          "metadata": {
            "needs_background": "light"
          }
        }
      ]
    },
    {
      "cell_type": "markdown",
      "source": [
        "* Overall, we do not see any pair of variables that are\n",
        "highly correlated. The highest correlation is 0.31 only.\n",
        "* Surprisingly, S2TA has very low correlations with RE2TA and ME2TL. "
      ],
      "metadata": {
        "id": "y4UaWA8Okl31"
      }
    },
    {
      "cell_type": "markdown",
      "source": [
        "\n",
        "### General comments\n",
        "---\n",
        "\n",
        "\n",
        "**Based on initial EDA, we have the following findings:**\n",
        "*   Features with clear difference:\n",
        "  * ME2TL: the higher, the better.\n",
        "  * RE2TA: the higher, the better.\n",
        "*   Features with unclear difference:\n",
        "  * WC2TA\n",
        "  * EBIT2TA\n",
        "  * S2TA"
      ],
      "metadata": {
        "id": "_0PVlq8nSV75"
      }
    },
    {
      "cell_type": "markdown",
      "source": [
        "# Step 3. Modeling"
      ],
      "metadata": {
        "id": "HC0AQkheaJxL"
      }
    },
    {
      "cell_type": "markdown",
      "source": [
        "## Linear Regression"
      ],
      "metadata": {
        "id": "X4WuirjznujH"
      }
    },
    {
      "cell_type": "code",
      "source": [
        ""
      ],
      "metadata": {
        "id": "KuG5fpjX3DSF"
      },
      "execution_count": null,
      "outputs": []
    }
  ]
}